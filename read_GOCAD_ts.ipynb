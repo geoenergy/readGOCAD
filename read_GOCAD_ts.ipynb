{
 "cells": [
  {
   "cell_type": "code",
   "execution_count": 4,
   "metadata": {},
   "outputs": [],
   "source": [
    "def read_GOCAD_ts(tsfile):\n",
    "    \"\"\"\n",
    " \n",
    "    Read GOCAD triangulated surface (*.ts) file\n",
    "    INPUT:\n",
    "    tsfile: Triangulated surface\n",
    " \n",
    "    OUTPUT:\n",
    "    vrts : Array of vertices in XYZ coordinates [n x 3]\n",
    "    trgl : Array of index for triangles [m x 3]. The order of the vertices\n",
    "            is important and describes the normal\n",
    "            n = cross( (P2 - P1 ) , (P3 - P1) )\n",
    " \n",
    "    Author: @fourndo  (Domin)\n",
    " \n",
    " \n",
    "    .. note::\n",
    " \n",
    "        Remove all attributes from the GoCAD surface before exporting it!\n",
    " \n",
    "    \"\"\"\n",
    " \n",
    "    import re\n",
    "    import vtk\n",
    "    import vtk.util.numpy_support as npsup\n",
    " \n",
    "    fid = open(tsfile, 'r')\n",
    "    line = fid.readline()\n",
    " \n",
    "    # Skip all the lines until the vertices\n",
    "    while re.match('TFACE', line) == None:\n",
    "        line = fid.readline()\n",
    " \n",
    "    line = fid.readline()\n",
    "    vrtx = []\n",
    " \n",
    "    # Run down all the vertices and save in array\n",
    "    while re.match('VRTX', line):\n",
    "        l_input = re.split('[\\s*]', line)\n",
    "        temp = np.array(l_input[2:5])\n",
    "        vrtx.append(temp.astype(np.float))\n",
    " \n",
    "        # Read next line\n",
    "        line = fid.readline()\n",
    " \n",
    "    vrtx = np.asarray(vrtx)\n",
    " \n",
    "    # Skip lines to the triangles\n",
    "    while re.match('TRGL', line) == None:\n",
    "        line = fid.readline()\n",
    " \n",
    "    # Run down the list of triangles\n",
    "    trgl = []\n",
    " \n",
    "    # Run down all the vertices and save in array\n",
    "    while re.match('TRGL', line):\n",
    "        l_input = re.split('[\\s*]', line)\n",
    "        temp = np.array(l_input[1:4])\n",
    "        trgl.append(temp.astype(np.int))\n",
    " \n",
    "        # Read next line\n",
    "        line = fid.readline()\n",
    " \n",
    "    trgl = np.asarray(trgl)\n",
    "    \n",
    "    \n",
    "    return vrtx, trgl"
   ]
  },
  {
   "cell_type": "code",
   "execution_count": 6,
   "metadata": {},
   "outputs": [],
   "source": [
    "vrtx,trgl = read_GOCAD_ts('data/07-TCret.ts')\n",
    "np.savetxt('data/07-TCret.xyz', \n",
    "           vrtx, \n",
    "           fmt='%7.6f %7.6f %7.6f' ,\n",
    "           delimiter=\" \",\n",
    "           comments='', \n",
    "           header=\"X Y Z\"  \n",
    "          )"
   ]
  },
  {
   "cell_type": "code",
   "execution_count": null,
   "metadata": {},
   "outputs": [],
   "source": []
  }
 ],
 "metadata": {
  "kernelspec": {
   "display_name": "SimPEG",
   "language": "python",
   "name": "simpeg"
  },
  "language_info": {
   "codemirror_mode": {
    "name": "ipython",
    "version": 3
   },
   "file_extension": ".py",
   "mimetype": "text/x-python",
   "name": "python",
   "nbconvert_exporter": "python",
   "pygments_lexer": "ipython3",
   "version": "3.6.7"
  },
  "toc": {
   "base_numbering": 1,
   "nav_menu": {},
   "number_sections": true,
   "sideBar": true,
   "skip_h1_title": false,
   "title_cell": "Table of Contents",
   "title_sidebar": "Contents",
   "toc_cell": false,
   "toc_position": {},
   "toc_section_display": true,
   "toc_window_display": false
  },
  "varInspector": {
   "cols": {
    "lenName": 16,
    "lenType": 16,
    "lenVar": 40
   },
   "kernels_config": {
    "python": {
     "delete_cmd_postfix": "",
     "delete_cmd_prefix": "del ",
     "library": "var_list.py",
     "varRefreshCmd": "print(var_dic_list())"
    },
    "r": {
     "delete_cmd_postfix": ") ",
     "delete_cmd_prefix": "rm(",
     "library": "var_list.r",
     "varRefreshCmd": "cat(var_dic_list()) "
    }
   },
   "types_to_exclude": [
    "module",
    "function",
    "builtin_function_or_method",
    "instance",
    "_Feature"
   ],
   "window_display": false
  }
 },
 "nbformat": 4,
 "nbformat_minor": 2
}
